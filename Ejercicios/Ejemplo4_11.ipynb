{
 "cells": [
  {
   "cell_type": "code",
   "execution_count": 1,
   "metadata": {},
   "outputs": [],
   "source": [
    "import pandas as pd\n",
    "import numpy as np\n",
    "import matplotlib.pyplot as plt\n",
    "import seaborn as sns\n",
    "from scipy.stats import rv_histogram, rv_discrete, binom\n",
    "from statsmodels.distributions.empirical_distribution import ECDF"
   ]
  },
  {
   "cell_type": "code",
   "execution_count": 2,
   "metadata": {},
   "outputs": [],
   "source": [
    "def simular():\n",
    "    urnas = [0, 0, 0, 0, 0, 0, 0, 0]\n",
    "    bolas = 9\n",
    "    for i in range(bolas):\n",
    "        urnas[np.random.choice(8)] += 1\n",
    "    return urnas\n",
    "\n",
    "# print(simular())"
   ]
  },
  {
   "cell_type": "code",
   "execution_count": 3,
   "metadata": {},
   "outputs": [],
   "source": [
    "def calcular_probabilidad(trial = 10000):\n",
    "    exitos = 0\n",
    "    for i in range(trial):\n",
    "        urnas = simular()\n",
    "        espacios_vacios = sum(1 for espacio in urnas if espacio == 0)\n",
    "        if espacios_vacios >= 3:\n",
    "            exitos += 1\n",
    "    return exitos/trial"
   ]
  },
  {
   "cell_type": "code",
   "execution_count": 4,
   "metadata": {},
   "outputs": [
    {
     "name": "stdout",
     "output_type": "stream",
     "text": [
      "La probabilidad de que haya al menos 3 espacios vacios es de 0.45\n"
     ]
    }
   ],
   "source": [
    "probabilidad = calcular_probabilidad()\n",
    "print(f'La probabilidad de que haya al menos 3 espacios vacios es de {probabilidad}')"
   ]
  }
 ],
 "metadata": {
  "kernelspec": {
   "display_name": "data-science",
   "language": "python",
   "name": "python3"
  },
  "language_info": {
   "codemirror_mode": {
    "name": "ipython",
    "version": 3
   },
   "file_extension": ".py",
   "mimetype": "text/x-python",
   "name": "python",
   "nbconvert_exporter": "python",
   "pygments_lexer": "ipython3",
   "version": "3.11.9"
  }
 },
 "nbformat": 4,
 "nbformat_minor": 2
}
