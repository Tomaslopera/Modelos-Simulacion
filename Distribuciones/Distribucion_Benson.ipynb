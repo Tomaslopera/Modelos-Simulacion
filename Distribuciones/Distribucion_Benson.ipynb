{
 "cells": [
  {
   "cell_type": "markdown",
   "metadata": {},
   "source": [
    "## <center> Modelo Benson </center>\n",
    "### 1. Librerias necesarias"
   ]
  },
  {
   "cell_type": "code",
   "execution_count": 2,
   "metadata": {},
   "outputs": [],
   "source": [
    "import numpy as np\n",
    "import pandas as pd\n",
    "import matplotlib.pyplot as plt\n",
    "import seaborn as sns\n",
    "from scipy.stats import rv_discrete, rv_histogram, binom\n",
    "from statsmodels.distributions.empirical_distribution import ECDF\n"
   ]
  },
  {
   "cell_type": "markdown",
   "metadata": {},
   "source": [
    "### 2. Entradas Conocidas"
   ]
  },
  {
   "cell_type": "code",
   "execution_count": 3,
   "metadata": {},
   "outputs": [],
   "source": [
    "reservas = [0, 1, 2, 3, 4, 5, 6, 7, 8, 9, 10]\n",
    "probabilidad = [0.02, 0.05, 0.08, 0.16, 0.26, 0.18, 0.11, 0.07, 0.05, 0.01, 0.01]\n",
    "trials = 5000 # Numero de simulaciones"
   ]
  },
  {
   "cell_type": "markdown",
   "metadata": {},
   "source": [
    "### 3. Variables de decisión"
   ]
  },
  {
   "cell_type": "code",
   "execution_count": 4,
   "metadata": {},
   "outputs": [],
   "source": [
    "# seed = 1234\n",
    "ingreso_c = [2000, 2000, 1500, 1500]\n",
    "prob_c = [0.25, 0.25, 0.40, 0.40]\n",
    "min_reunion_c = [3, 1, 3, 1]"
   ]
  },
  {
   "cell_type": "markdown",
   "metadata": {},
   "source": [
    "### 4. Entradas inciertas"
   ]
  },
  {
   "cell_type": "code",
   "execution_count": 5,
   "metadata": {},
   "outputs": [
    {
     "name": "stdout",
     "output_type": "stream",
     "text": [
      "4\n"
     ]
    }
   ],
   "source": [
    "def gen_reserva():\n",
    "    c_reservas = rv_discrete(name='custom_reservas', values=(reservas, probabilidad))\n",
    "    return c_reservas.rvs(size=1)[0]\n",
    "print(gen_reserva())"
   ]
  },
  {
   "cell_type": "markdown",
   "metadata": {},
   "source": [
    "### 5. Cálculos intermedios"
   ]
  },
  {
   "cell_type": "code",
   "execution_count": 6,
   "metadata": {},
   "outputs": [],
   "source": [
    "def simular(ingreso_c, prob_c, min_reunion_c):\n",
    "    nro_reservas = gen_reserva()\n",
    "    if nro_reservas < min_reunion_c:\n",
    "        nro_cirugias = 0\n",
    "    else:\n",
    "        nro_cirugias = binom.rvs(n=nro_reservas, p=prob_c, size=1)[0]\n",
    "    ingreso_s = nro_cirugias*ingreso_c\n",
    "\n",
    "    return ingreso_s"
   ]
  },
  {
   "cell_type": "markdown",
   "metadata": {},
   "source": [
    "### 6. Salidas"
   ]
  },
  {
   "cell_type": "code",
   "execution_count": 7,
   "metadata": {},
   "outputs": [],
   "source": [
    "resultados = {}\n",
    "for ingreso, prob, reunion in zip(ingreso_c, prob_c, min_reunion_c):\n",
    "    # print(ingreso, prob, reunion)\n",
    "    vector_utilidades = []\n",
    "    for i in range(trials):\n",
    "        vector_utilidades.append(simular(ingreso, prob, reunion))\n",
    "        # print(vector_utilidades)\n",
    "    key = f'Ingreso: {ingreso}, Prob: {prob}, Reunion: {reunion}'\n",
    "    resultados[key] = vector_utilidades\n",
    "    # print(f'Utilidad promedio para {ingreso} ingreso, {prob} probabilidad y {reunion} minimo de reunion: {utilidad_promedio:.4f}')\n",
    "    "
   ]
  },
  {
   "cell_type": "markdown",
   "metadata": {},
   "source": [
    "### 7. Resumen"
   ]
  },
  {
   "cell_type": "code",
   "execution_count": null,
   "metadata": {},
   "outputs": [
    {
     "name": "stdout",
     "output_type": "stream",
     "text": [
      "Ingreso: 2000, Prob: 0.25, Reunion: 3: 2113.2\n",
      "Ingreso: 2000, Prob: 0.25, Reunion: 1: 2181.2\n",
      "Ingreso: 1500, Prob: 0.4, Reunion: 3: 2494.2\n",
      "Ingreso: 1500, Prob: 0.4, Reunion: 1: 2577.0\n",
      "P(X ≤ 2000) en Ingreso: 1500, Prob: 0.4, Reunion: 1: 0.4752\n"
     ]
    },
    {
     "data": {
      "image/png": "[encoded data removed]",
      "text/plain": [
       "<Figure size 500x500 with 1 Axes>"
      ]
     },
     "metadata": {},
     "output_type": "display_data"
    }
   ],
   "source": [
    "val_results = {}\n",
    "ecdf_results = {}\n",
    "hist_results = {}\n",
    "for key, values in resultados.items():\n",
    "    \n",
    "    ecdf=ECDF(values)\n",
    "    hist = np.histogram(values, bins=\"sturges\", density=True)\n",
    "    \n",
    "    hist_dist = rv_histogram(hist)\n",
    "    \n",
    "    ecdf_results[key] = ecdf\n",
    "    hist_results[key] = hist_dist\n",
    "    val_results[key] = values\n",
    "    print(f'{key}: {np.mean(values)}')\n",
    "\n",
    "ejemplo_key=list(hist_results.keys())[3] \n",
    "hist_funcion=hist_results[ejemplo_key]\n",
    "val_funcion=val_results[ejemplo_key]\n",
    "ecdf_funcion=ecdf_results[ejemplo_key]\n",
    "probabilidad = ecdf_funcion(2000)\n",
    "print(f'P(X ≤ 2000) en {ejemplo_key}: {probabilidad:.4f}')\n",
    "sns.displot(val_funcion, bins=50, label='Histograma de Datos')\n",
    "plt.legend()\n",
    "plt.show()"
   ]
  }
 ],
 "metadata": {
  "kernelspec": {
   "display_name": "data-science",
   "language": "python",
   "name": "python3"
  },
  "language_info": {
   "codemirror_mode": {
    "name": "ipython",
    "version": 3
   },
   "file_extension": ".py",
   "mimetype": "text/x-python",
   "name": "python",
   "nbconvert_exporter": "python",
   "pygments_lexer": "ipython3",
   "version": "3.11.9"
  }
 },
 "nbformat": 4,
 "nbformat_minor": 2
}
