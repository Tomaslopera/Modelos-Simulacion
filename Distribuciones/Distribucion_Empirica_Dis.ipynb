{
 "cells": [
  {
   "cell_type": "markdown",
   "metadata": {},
   "source": [
    "# <center> Distribución Empírica para Datos Discretos </center>\n",
    "Podemos usar `rv_discrete` de `scipy.stats`  para construir una variable aleatoria discreta arbitraria definida en un conjunto finito de valores xk con Prob{X=xk} = pk utilizando como argumento la palabra clave `values` ​​para el constructor `rv_discrete`.\n",
    "\n",
    "**Pasos:**\n",
    "\n",
    "1. Importar las librerías necesarias:\n"
   ]
  },
  {
   "cell_type": "code",
   "execution_count": 4,
   "metadata": {},
   "outputs": [],
   "source": [
    "from scipy.stats import rv_discrete\n",
    "import numpy as np\n",
    "import matplotlib.pyplot as plt\n",
    "import seaborn as sns\n",
    "import pandas as pd"
   ]
  },
  {
   "cell_type": "markdown",
   "metadata": {},
   "source": [
    "2. Generar o cargar el conjunto de datos:"
   ]
  },
  {
   "cell_type": "code",
   "execution_count": 2,
   "metadata": {},
   "outputs": [
    {
     "name": "stdout",
     "output_type": "stream",
     "text": [
      "0    5\n",
      "1    1\n",
      "2    4\n",
      "3    0\n",
      "4    2\n",
      "5    5\n",
      "6    3\n",
      "7    1\n",
      "8    4\n",
      "9    7\n",
      "Name: Valor, dtype: int64\n"
     ]
    }
   ],
   "source": [
    "df = pd.read_excel('../Datos/DatosDiscretos.xlsx')\n",
    "datos = df['Valor']\n",
    "print(datos.head(10))"
   ]
  },
  {
   "cell_type": "markdown",
   "metadata": {},
   "source": [
    "3. Calcular las frecuencias de los datos individuales:"
   ]
  },
  {
   "cell_type": "code",
   "execution_count": 6,
   "metadata": {},
   "outputs": [
    {
     "name": "stdout",
     "output_type": "stream",
     "text": [
      " Valor  Frecuencia  Probabilidad  Acumulada\n",
      "     0           4      0.057143   0.057143\n",
      "     1          13      0.185714   0.242857\n",
      "     2          18      0.257143   0.500000\n",
      "     3           9      0.128571   0.628571\n",
      "     4          12      0.171429   0.800000\n",
      "     5           7      0.100000   0.900000\n",
      "     6           3      0.042857   0.942857\n",
      "     7           4      0.057143   1.000000\n"
     ]
    }
   ],
   "source": [
    "# Obtener la distribución de frecuencias\n",
    "valores, conteos = np.unique(datos, return_counts=True)\n",
    "\n",
    "# Calcular las probabilidades empíricas de cada valor\n",
    "probabilidades = conteos / len(datos)\n",
    "acumulada=np.cumsum(probabilidades)\n",
    "\n",
    "# Visualizar la distribución de frecuencias\n",
    "dist_frec = pd.DataFrame({'Valor': valores, 'Frecuencia': conteos, 'Probabilidad': probabilidades, 'Acumulada': acumulada})\n",
    "print(dist_frec.to_string(index=False))"
   ]
  },
  {
   "cell_type": "markdown",
   "metadata": {},
   "source": [
    "4. Crear la distribución empírica discreta:"
   ]
  },
  {
   "cell_type": "code",
   "execution_count": 7,
   "metadata": {},
   "outputs": [],
   "source": [
    "custom_discrete = rv_discrete(name='custom_discrete', values=(valores, probabilidades))"
   ]
  },
  {
   "cell_type": "markdown",
   "metadata": {},
   "source": [
    "5. Visualización de la distribución:"
   ]
  },
  {
   "cell_type": "code",
   "execution_count": 8,
   "metadata": {},
   "outputs": [
    {
     "data": {
      "image/png": "[encoded data removed]",
      "text/plain": [
       "<Figure size 640x480 with 1 Axes>"
      ]
     },
     "metadata": {},
     "output_type": "display_data"
    }
   ],
   "source": [
    "fig, ax = plt.subplots(1, 1)\n",
    "ax.plot(valores, custom_discrete.pmf(valores), 'ro', ms=8, mec='r')\n",
    "ax.vlines(valores, 0, custom_discrete.pmf(valores), colors='r', lw=2)\n",
    "plt.show()"
   ]
  },
  {
   "cell_type": "markdown",
   "metadata": {},
   "source": [
    "6. Generar muestras a partir de la distribución discreta:"
   ]
  },
  {
   "cell_type": "code",
   "execution_count": 9,
   "metadata": {},
   "outputs": [
    {
     "name": "stdout",
     "output_type": "stream",
     "text": [
      "[3 1 7 2 3 1 1 3 2 2]\n"
     ]
    }
   ],
   "source": [
    "print(custom_discrete.rvs(size=10))"
   ]
  },
  {
   "cell_type": "markdown",
   "metadata": {},
   "source": [
    "7. Otros métodos para generar datos de la distribución empírica:"
   ]
  },
  {
   "cell_type": "code",
   "execution_count": 10,
   "metadata": {},
   "outputs": [
    {
     "name": "stdout",
     "output_type": "stream",
     "text": [
      "[2, 1, 2, 2, 3, 1, 4, 1, 1, 3]\n"
     ]
    }
   ],
   "source": [
    "import random  \n",
    "muestras = random.choices(valores, probabilidades, k=10)\n",
    "# print(muestras)\n",
    "print([int(x) for x in muestras])\n"
   ]
  },
  {
   "cell_type": "code",
   "execution_count": 14,
   "metadata": {},
   "outputs": [
    {
     "name": "stdout",
     "output_type": "stream",
     "text": [
      "2.9285714285714284\n",
      "2.9285714285714284\n",
      "0.1\n",
      "P(2 <= X <= 6) = 0.7000\n"
     ]
    }
   ],
   "source": [
    "print(custom_discrete.mean())\n",
    "print(custom_discrete.moment(1))\n",
    "custom_discrete.expect()\n",
    "custom_discrete.stats(moments='v')\n",
    "custom_discrete.interval(0.50)\n",
    "custom_discrete.support()\n",
    "print(custom_discrete.pmf(5))\n",
    "prob1=custom_discrete.cdf(6)-custom_discrete.cdf(1)\n",
    "print(f\"P(2 <= X <= 6) = {prob1:.4f}\")"
   ]
  },
  {
   "cell_type": "code",
   "execution_count": 15,
   "metadata": {},
   "outputs": [
    {
     "name": "stdout",
     "output_type": "stream",
     "text": [
      "[5]\n"
     ]
    }
   ],
   "source": [
    "print(np.random.binomial(10,0.5,1))"
   ]
  }
 ],
 "metadata": {
  "kernelspec": {
   "display_name": "data-science",
   "language": "python",
   "name": "python3"
  },
  "language_info": {
   "codemirror_mode": {
    "name": "ipython",
    "version": 3
   },
   "file_extension": ".py",
   "mimetype": "text/x-python",
   "name": "python",
   "nbconvert_exporter": "python",
   "pygments_lexer": "ipython3",
   "version": "3.11.9"
  }
 },
 "nbformat": 4,
 "nbformat_minor": 2
}
