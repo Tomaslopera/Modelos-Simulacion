{
 "cells": [
  {
   "cell_type": "code",
   "execution_count": 4,
   "metadata": {},
   "outputs": [
    {
     "name": "stdout",
     "output_type": "stream",
     "text": [
      "Observada[ 5.  6. 10. 17. 28. 14.  8.  7.  5.]/n Esperada[ 3.4784122   8.62646227 14.26241762 17.68539784 17.54391466 14.50296945\n",
      " 10.27638978  6.37136167  3.51132821]\n"
     ]
    },
    {
     "data": {
      "text/plain": [
       "Power_divergenceResult(statistic=np.float64(8.608359107961459), pvalue=np.float64(0.2820099409547405))"
      ]
     },
     "execution_count": 4,
     "metadata": {},
     "output_type": "execute_result"
    }
   ],
   "source": [
    "import numpy as np\n",
    "from scipy import stats as stats\n",
    "\n",
    "#verificar num reclamaciones por semana \n",
    "\n",
    "reclamos = np.array ([1,2,3,4,5,6,7,8,9])\n",
    "probabilidad = np.array([0.05, 0.06, 0.10, 0.17, 0.28, 0.14, 0.08, 0.07, 0.05])\n",
    "\n",
    "# calcular mle de poisson\n",
    "lambdaMLE= np.sum(reclamos*probabilidad)\n",
    "\n",
    "# Distribución teorica\n",
    "\n",
    "poissonTeorica= stats.poisson.pmf(reclamos,lambdaMLE)\n",
    "N=100\n",
    "\n",
    "f_observada = probabilidad * N\n",
    "f_esperada = poissonTeorica*N\n",
    "\n",
    "print(f'Observada{f_observada}/n Esperada{f_esperada}')\n",
    "\n",
    "# agrupar clases \n",
    "\n",
    "f_observadaNueva = [f_observada[0]+f_observada[1],\n",
    "                    f_observada[2],f_observada[3],\n",
    "                    f_observada[4],f_observada[5],\n",
    "                    f_observada[6],\n",
    "                    f_observada[7]+f_observada[8]]\n",
    "\n",
    "f_esperadaNueva = [f_esperada[0]+f_esperada[1],\n",
    "                    f_esperada[2],f_esperada[3],\n",
    "                    f_esperada[4],f_esperada[5],\n",
    "                    f_esperada[6],\n",
    "                    f_esperada[7]+f_esperada[8]]\n",
    "\n",
    "#Prueba \n",
    "\n",
    "stats.chisquare(f_observadaNueva, f_esperadaNueva, ddof = -1, sum_check=False)\n"
   ]
  }
 ],
 "metadata": {
  "kernelspec": {
   "display_name": "data-science",
   "language": "python",
   "name": "python3"
  },
  "language_info": {
   "codemirror_mode": {
    "name": "ipython",
    "version": 3
   },
   "file_extension": ".py",
   "mimetype": "text/x-python",
   "name": "python",
   "nbconvert_exporter": "python",
   "pygments_lexer": "ipython3",
   "version": "3.11.9"
  }
 },
 "nbformat": 4,
 "nbformat_minor": 2
}
